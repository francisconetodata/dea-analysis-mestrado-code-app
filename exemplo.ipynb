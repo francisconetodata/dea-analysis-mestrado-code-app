{
  "cells": [
    {
      "cell_type": "markdown",
      "metadata": {
        "id": "qQShECNJNAdf"
      },
      "source": [
        "#Ricos pelo Acaso"
      ]
    },
    {
      "cell_type": "markdown",
      "metadata": {
        "id": "1tJcO9IFNDpm"
      },
      "source": [
        "Link para o vídeo: https://youtu.be/G2Tr2dcjR3U"
      ]
    },
    {
      "cell_type": "markdown",
      "metadata": {
        "id": "4kdKe0wWcfut"
      },
      "source": [
        "# 1. Importando Bibliotecas\n"
      ]
    },
    {
      "cell_type": "code",
      "execution_count": 4,
      "metadata": {
        "id": "H4fvl8XUct1T"
      },
      "outputs": [],
      "source": [
        "# Configurando Yahoo Finance\n",
        "#!pip install yfinance --upgrade --no-cache-dir\n",
        "import yfinance as yf"
      ]
    },
    {
      "cell_type": "code",
      "execution_count": 3,
      "metadata": {
        "id": "ap5jprNVVU7_"
      },
      "outputs": [],
      "source": [
        "import numpy as np\n",
        "import pandas as pd\n",
        "import matplotlib.pyplot as plt\n",
        "import seaborn as sns\n",
        "sns.set()\n",
        "\n",
        "import random"
      ]
    },
    {
      "cell_type": "code",
      "execution_count": 5,
      "metadata": {},
      "outputs": [],
      "source": [
        "from pandas_datareader.data import DataReader"
      ]
    },
    {
      "cell_type": "code",
      "execution_count": 6,
      "metadata": {},
      "outputs": [],
      "source": [
        "df = DataReader(['^BVSP','CMIG3.SA'],'yahoo')['Adj Close']"
      ]
    },
    {
      "cell_type": "code",
      "execution_count": 11,
      "metadata": {},
      "outputs": [],
      "source": [
        "coluns = df.isnull().sum()>0"
      ]
    },
    {
      "cell_type": "code",
      "execution_count": 24,
      "metadata": {},
      "outputs": [
        {
          "data": {
            "text/plain": [
              "Symbols\n",
              "^BVSP    True\n",
              "dtype: bool"
            ]
          },
          "execution_count": 24,
          "metadata": {},
          "output_type": "execute_result"
        }
      ],
      "source": []
    },
    {
      "cell_type": "code",
      "execution_count": 22,
      "metadata": {},
      "outputs": [
        {
          "data": {
            "text/html": [
              "<div>\n",
              "<style scoped>\n",
              "    .dataframe tbody tr th:only-of-type {\n",
              "        vertical-align: middle;\n",
              "    }\n",
              "\n",
              "    .dataframe tbody tr th {\n",
              "        vertical-align: top;\n",
              "    }\n",
              "\n",
              "    .dataframe thead th {\n",
              "        text-align: right;\n",
              "    }\n",
              "</style>\n",
              "<table border=\"1\" class=\"dataframe\">\n",
              "  <thead>\n",
              "    <tr style=\"text-align: right;\">\n",
              "      <th>Symbols</th>\n",
              "      <th>CMIG3.SA</th>\n",
              "    </tr>\n",
              "    <tr>\n",
              "      <th>Date</th>\n",
              "      <th></th>\n",
              "    </tr>\n",
              "  </thead>\n",
              "  <tbody>\n",
              "    <tr>\n",
              "      <th>2017-07-11</th>\n",
              "      <td>4.440266</td>\n",
              "    </tr>\n",
              "    <tr>\n",
              "      <th>2017-07-12</th>\n",
              "      <td>4.572811</td>\n",
              "    </tr>\n",
              "    <tr>\n",
              "      <th>2017-07-13</th>\n",
              "      <td>4.542222</td>\n",
              "    </tr>\n",
              "    <tr>\n",
              "      <th>2017-07-14</th>\n",
              "      <td>4.618690</td>\n",
              "    </tr>\n",
              "    <tr>\n",
              "      <th>2017-07-17</th>\n",
              "      <td>4.613593</td>\n",
              "    </tr>\n",
              "    <tr>\n",
              "      <th>...</th>\n",
              "      <td>...</td>\n",
              "    </tr>\n",
              "    <tr>\n",
              "      <th>2022-07-04</th>\n",
              "      <td>15.100000</td>\n",
              "    </tr>\n",
              "    <tr>\n",
              "      <th>2022-07-05</th>\n",
              "      <td>15.830000</td>\n",
              "    </tr>\n",
              "    <tr>\n",
              "      <th>2022-07-06</th>\n",
              "      <td>15.390000</td>\n",
              "    </tr>\n",
              "    <tr>\n",
              "      <th>2022-07-07</th>\n",
              "      <td>15.530000</td>\n",
              "    </tr>\n",
              "    <tr>\n",
              "      <th>2022-07-08</th>\n",
              "      <td>15.510000</td>\n",
              "    </tr>\n",
              "  </tbody>\n",
              "</table>\n",
              "<p>1243 rows × 1 columns</p>\n",
              "</div>"
            ],
            "text/plain": [
              "Symbols      CMIG3.SA\n",
              "Date                 \n",
              "2017-07-11   4.440266\n",
              "2017-07-12   4.572811\n",
              "2017-07-13   4.542222\n",
              "2017-07-14   4.618690\n",
              "2017-07-17   4.613593\n",
              "...               ...\n",
              "2022-07-04  15.100000\n",
              "2022-07-05  15.830000\n",
              "2022-07-06  15.390000\n",
              "2022-07-07  15.530000\n",
              "2022-07-08  15.510000\n",
              "\n",
              "[1243 rows x 1 columns]"
            ]
          },
          "execution_count": 22,
          "metadata": {},
          "output_type": "execute_result"
        }
      ],
      "source": [
        "df.drop(columns=(coluns[coluns>0].index.values))"
      ]
    },
    {
      "cell_type": "code",
      "execution_count": 9,
      "metadata": {},
      "outputs": [
        {
          "data": {
            "text/plain": [
              "0.9943684633950121"
            ]
          },
          "execution_count": 9,
          "metadata": {},
          "output_type": "execute_result"
        }
      ],
      "source": [
        "len(df.dropna())/len(df)"
      ]
    },
    {
      "cell_type": "code",
      "execution_count": null,
      "metadata": {},
      "outputs": [],
      "source": [
        "if len(df.dropna())/len(df) < 1:\n",
        "    "
      ]
    },
    {
      "cell_type": "code",
      "execution_count": 38,
      "metadata": {},
      "outputs": [
        {
          "data": {
            "text/plain": [
              "DatetimeIndex(['2017-07-11', '2017-07-12', '2017-07-13', '2017-07-14',\n",
              "               '2017-07-17', '2017-07-18', '2017-07-19', '2017-07-20',\n",
              "               '2017-07-21', '2017-07-24',\n",
              "               ...\n",
              "               '2022-06-27', '2022-06-28', '2022-06-29', '2022-06-30',\n",
              "               '2022-07-01', '2022-07-04', '2022-07-05', '2022-07-06',\n",
              "               '2022-07-07', '2022-07-08'],\n",
              "              dtype='datetime64[ns]', name='Date', length=1243, freq=None)"
            ]
          },
          "execution_count": 38,
          "metadata": {},
          "output_type": "execute_result"
        }
      ],
      "source": [
        "dff = df.pct_change()\n",
        "dff.index\n"
      ]
    },
    {
      "cell_type": "markdown",
      "metadata": {
        "id": "Z4b3b_F1E-IV"
      },
      "source": [
        "# 2. Obtendo e tratando os dados"
      ]
    },
    {
      "cell_type": "code",
      "execution_count": 12,
      "metadata": {
        "colab": {
          "base_uri": "https://localhost:8080/",
          "height": 54
        },
        "id": "XRwfLk8lsXt6",
        "outputId": "c8b4a0bd-0fee-4739-85f1-fd71666f09da"
      },
      "outputs": [
        {
          "name": "stdout",
          "output_type": "stream",
          "text": [
            "[*********************100%***********************]  3 of 3 completed\n",
            "[*********************100%***********************]  1 of 1 completed\n"
          ]
        }
      ],
      "source": [
        "tickers_ibov = ['CMIG3.SA','CMIG4.SA','TAEE11.SA']\n",
        "\n",
        "dados_yahoo = yf.download(tickers=tickers_ibov, period='2y')[\"Adj Close\"]\n",
        "\n",
        "ibov = yf.download('BOVA11.SA', period='2y')[\"Adj Close\"]\n",
        "ibov = ibov / ibov.iloc[0]"
      ]
    },
    {
      "cell_type": "code",
      "execution_count": 13,
      "metadata": {
        "id": "tn5ZNShuGPO5"
      },
      "outputs": [],
      "source": [
        "dados_yahoo.dropna(how='all', inplace=True)\n",
        "dados_yahoo.dropna(axis=1, inplace=True, thresh=246)"
      ]
    },
    {
      "cell_type": "code",
      "execution_count": 23,
      "metadata": {
        "colab": {
          "base_uri": "https://localhost:8080/",
          "height": 630
        },
        "id": "8RFVlFARkxjd",
        "outputId": "17852f70-9002-4796-83b8-eab5cc9f4d73"
      },
      "outputs": [
        {
          "data": {
            "text/plain": [
              "'Dataa'"
            ]
          },
          "execution_count": 23,
          "metadata": {},
          "output_type": "execute_result"
        }
      ],
      "source": [
        "dados_yahoo.index.name "
      ]
    },
    {
      "cell_type": "code",
      "execution_count": 16,
      "metadata": {
        "colab": {
          "base_uri": "https://localhost:8080/",
          "height": 630
        },
        "id": "nGIxN-yLk3Qa",
        "outputId": "89edf57d-5855-4b47-cce7-9404223932b8"
      },
      "outputs": [
        {
          "data": {
            "text/html": [
              "<div>\n",
              "<style scoped>\n",
              "    .dataframe tbody tr th:only-of-type {\n",
              "        vertical-align: middle;\n",
              "    }\n",
              "\n",
              "    .dataframe tbody tr th {\n",
              "        vertical-align: top;\n",
              "    }\n",
              "\n",
              "    .dataframe thead th {\n",
              "        text-align: right;\n",
              "    }\n",
              "</style>\n",
              "<table border=\"1\" class=\"dataframe\">\n",
              "  <thead>\n",
              "    <tr style=\"text-align: right;\">\n",
              "      <th></th>\n",
              "      <th>CMIG3.SA</th>\n",
              "      <th>CMIG4.SA</th>\n",
              "      <th>TAEE11.SA</th>\n",
              "    </tr>\n",
              "    <tr>\n",
              "      <th>Date</th>\n",
              "      <th></th>\n",
              "      <th></th>\n",
              "      <th></th>\n",
              "    </tr>\n",
              "  </thead>\n",
              "  <tbody>\n",
              "    <tr>\n",
              "      <th>2020-07-08</th>\n",
              "      <td>NaN</td>\n",
              "      <td>NaN</td>\n",
              "      <td>NaN</td>\n",
              "    </tr>\n",
              "    <tr>\n",
              "      <th>2020-07-09</th>\n",
              "      <td>-0.011676</td>\n",
              "      <td>0.006087</td>\n",
              "      <td>-0.005227</td>\n",
              "    </tr>\n",
              "    <tr>\n",
              "      <th>2020-07-10</th>\n",
              "      <td>0.008439</td>\n",
              "      <td>-0.004321</td>\n",
              "      <td>-0.002102</td>\n",
              "    </tr>\n",
              "    <tr>\n",
              "      <th>2020-07-13</th>\n",
              "      <td>0.006694</td>\n",
              "      <td>0.013021</td>\n",
              "      <td>-0.001404</td>\n",
              "    </tr>\n",
              "    <tr>\n",
              "      <th>2020-07-14</th>\n",
              "      <td>-0.011637</td>\n",
              "      <td>-0.022279</td>\n",
              "      <td>-0.002812</td>\n",
              "    </tr>\n",
              "    <tr>\n",
              "      <th>...</th>\n",
              "      <td>...</td>\n",
              "      <td>...</td>\n",
              "      <td>...</td>\n",
              "    </tr>\n",
              "    <tr>\n",
              "      <th>2022-07-04</th>\n",
              "      <td>-0.013072</td>\n",
              "      <td>-0.012405</td>\n",
              "      <td>-0.016039</td>\n",
              "    </tr>\n",
              "    <tr>\n",
              "      <th>2022-07-05</th>\n",
              "      <td>0.048344</td>\n",
              "      <td>-0.021256</td>\n",
              "      <td>-0.004657</td>\n",
              "    </tr>\n",
              "    <tr>\n",
              "      <th>2022-07-06</th>\n",
              "      <td>-0.027795</td>\n",
              "      <td>-0.002961</td>\n",
              "      <td>0.007018</td>\n",
              "    </tr>\n",
              "    <tr>\n",
              "      <th>2022-07-07</th>\n",
              "      <td>0.009097</td>\n",
              "      <td>0.017822</td>\n",
              "      <td>0.011358</td>\n",
              "    </tr>\n",
              "    <tr>\n",
              "      <th>2022-07-08</th>\n",
              "      <td>-0.001288</td>\n",
              "      <td>0.000000</td>\n",
              "      <td>-0.002552</td>\n",
              "    </tr>\n",
              "  </tbody>\n",
              "</table>\n",
              "<p>497 rows × 3 columns</p>\n",
              "</div>"
            ],
            "text/plain": [
              "            CMIG3.SA  CMIG4.SA  TAEE11.SA\n",
              "Date                                     \n",
              "2020-07-08       NaN       NaN        NaN\n",
              "2020-07-09 -0.011676  0.006087  -0.005227\n",
              "2020-07-10  0.008439 -0.004321  -0.002102\n",
              "2020-07-13  0.006694  0.013021  -0.001404\n",
              "2020-07-14 -0.011637 -0.022279  -0.002812\n",
              "...              ...       ...        ...\n",
              "2022-07-04 -0.013072 -0.012405  -0.016039\n",
              "2022-07-05  0.048344 -0.021256  -0.004657\n",
              "2022-07-06 -0.027795 -0.002961   0.007018\n",
              "2022-07-07  0.009097  0.017822   0.011358\n",
              "2022-07-08 -0.001288  0.000000  -0.002552\n",
              "\n",
              "[497 rows x 3 columns]"
            ]
          },
          "execution_count": 16,
          "metadata": {},
          "output_type": "execute_result"
        }
      ],
      "source": [
        "retorno = dados_yahoo.pct_change()\n",
        "retorno"
      ]
    },
    {
      "cell_type": "code",
      "execution_count": 18,
      "metadata": {
        "colab": {
          "base_uri": "https://localhost:8080/",
          "height": 630
        },
        "id": "1WZ9E0RUk_ui",
        "outputId": "1ec6778e-f777-4b22-eec7-df865ecdb25b"
      },
      "outputs": [
        {
          "data": {
            "text/html": [
              "<div>\n",
              "<style scoped>\n",
              "    .dataframe tbody tr th:only-of-type {\n",
              "        vertical-align: middle;\n",
              "    }\n",
              "\n",
              "    .dataframe tbody tr th {\n",
              "        vertical-align: top;\n",
              "    }\n",
              "\n",
              "    .dataframe thead th {\n",
              "        text-align: right;\n",
              "    }\n",
              "</style>\n",
              "<table border=\"1\" class=\"dataframe\">\n",
              "  <thead>\n",
              "    <tr style=\"text-align: right;\">\n",
              "      <th></th>\n",
              "      <th>CMIG3.SA</th>\n",
              "      <th>CMIG4.SA</th>\n",
              "      <th>TAEE11.SA</th>\n",
              "    </tr>\n",
              "    <tr>\n",
              "      <th>Date</th>\n",
              "      <th></th>\n",
              "      <th></th>\n",
              "      <th></th>\n",
              "    </tr>\n",
              "  </thead>\n",
              "  <tbody>\n",
              "    <tr>\n",
              "      <th>2020-07-08</th>\n",
              "      <td>1.000000</td>\n",
              "      <td>1.000000</td>\n",
              "      <td>1.000000</td>\n",
              "    </tr>\n",
              "    <tr>\n",
              "      <th>2020-07-09</th>\n",
              "      <td>0.988324</td>\n",
              "      <td>1.006087</td>\n",
              "      <td>0.994773</td>\n",
              "    </tr>\n",
              "    <tr>\n",
              "      <th>2020-07-10</th>\n",
              "      <td>0.996664</td>\n",
              "      <td>1.001739</td>\n",
              "      <td>0.992683</td>\n",
              "    </tr>\n",
              "    <tr>\n",
              "      <th>2020-07-13</th>\n",
              "      <td>1.003336</td>\n",
              "      <td>1.014783</td>\n",
              "      <td>0.991289</td>\n",
              "    </tr>\n",
              "    <tr>\n",
              "      <th>2020-07-14</th>\n",
              "      <td>0.991660</td>\n",
              "      <td>0.992174</td>\n",
              "      <td>0.988502</td>\n",
              "    </tr>\n",
              "    <tr>\n",
              "      <th>...</th>\n",
              "      <td>...</td>\n",
              "      <td>...</td>\n",
              "      <td>...</td>\n",
              "    </tr>\n",
              "    <tr>\n",
              "      <th>2022-07-04</th>\n",
              "      <td>2.278281</td>\n",
              "      <td>1.739172</td>\n",
              "      <td>1.697658</td>\n",
              "    </tr>\n",
              "    <tr>\n",
              "      <th>2022-07-05</th>\n",
              "      <td>2.388423</td>\n",
              "      <td>1.702204</td>\n",
              "      <td>1.689752</td>\n",
              "    </tr>\n",
              "    <tr>\n",
              "      <th>2022-07-06</th>\n",
              "      <td>2.322037</td>\n",
              "      <td>1.697163</td>\n",
              "      <td>1.701611</td>\n",
              "    </tr>\n",
              "    <tr>\n",
              "      <th>2022-07-07</th>\n",
              "      <td>2.343160</td>\n",
              "      <td>1.727410</td>\n",
              "      <td>1.720938</td>\n",
              "    </tr>\n",
              "    <tr>\n",
              "      <th>2022-07-08</th>\n",
              "      <td>2.340142</td>\n",
              "      <td>1.727410</td>\n",
              "      <td>1.716545</td>\n",
              "    </tr>\n",
              "  </tbody>\n",
              "</table>\n",
              "<p>497 rows × 3 columns</p>\n",
              "</div>"
            ],
            "text/plain": [
              "            CMIG3.SA  CMIG4.SA  TAEE11.SA\n",
              "Date                                     \n",
              "2020-07-08  1.000000  1.000000   1.000000\n",
              "2020-07-09  0.988324  1.006087   0.994773\n",
              "2020-07-10  0.996664  1.001739   0.992683\n",
              "2020-07-13  1.003336  1.014783   0.991289\n",
              "2020-07-14  0.991660  0.992174   0.988502\n",
              "...              ...       ...        ...\n",
              "2022-07-04  2.278281  1.739172   1.697658\n",
              "2022-07-05  2.388423  1.702204   1.689752\n",
              "2022-07-06  2.322037  1.697163   1.701611\n",
              "2022-07-07  2.343160  1.727410   1.720938\n",
              "2022-07-08  2.340142  1.727410   1.716545\n",
              "\n",
              "[497 rows x 3 columns]"
            ]
          },
          "execution_count": 18,
          "metadata": {},
          "output_type": "execute_result"
        }
      ],
      "source": [
        "retorno_acumulado = (1 + retorno).cumprod()\n",
        "retorno_acumulado.iloc[0] = 1\n",
        "retorno_acumulado"
      ]
    },
    {
      "cell_type": "markdown",
      "metadata": {
        "id": "kuNEuyzcJzIN"
      },
      "source": [
        "# 3. Resultados"
      ]
    },
    {
      "cell_type": "code",
      "execution_count": 39,
      "metadata": {},
      "outputs": [
        {
          "data": {
            "text/plain": [
              "['CMIG4.SA', 'TAEE11.SA', 'CMIG3.SA']"
            ]
          },
          "execution_count": 39,
          "metadata": {},
          "output_type": "execute_result"
        }
      ],
      "source": [
        "carteira = random.sample(list(dados_yahoo.columns) , k=3)\n",
        "carteira"
      ]
    },
    {
      "cell_type": "code",
      "execution_count": 11,
      "metadata": {
        "colab": {
          "base_uri": "https://localhost:8080/",
          "height": 437
        },
        "id": "6GbJfRZ7bMuw",
        "outputId": "6433a699-627f-4ec4-8a4c-14152f4a8418"
      },
      "outputs": [
        {
          "data": {
            "text/html": [
              "<div>\n",
              "<style scoped>\n",
              "    .dataframe tbody tr th:only-of-type {\n",
              "        vertical-align: middle;\n",
              "    }\n",
              "\n",
              "    .dataframe tbody tr th {\n",
              "        vertical-align: top;\n",
              "    }\n",
              "\n",
              "    .dataframe thead th {\n",
              "        text-align: right;\n",
              "    }\n",
              "</style>\n",
              "<table border=\"1\" class=\"dataframe\">\n",
              "  <thead>\n",
              "    <tr style=\"text-align: right;\">\n",
              "      <th></th>\n",
              "      <th>CMIG4.SA</th>\n",
              "      <th>CMIG3.SA</th>\n",
              "      <th>TAEE11.SA</th>\n",
              "      <th>saldo</th>\n",
              "      <th>retorno</th>\n",
              "    </tr>\n",
              "    <tr>\n",
              "      <th>Date</th>\n",
              "      <th></th>\n",
              "      <th></th>\n",
              "      <th></th>\n",
              "      <th></th>\n",
              "      <th></th>\n",
              "    </tr>\n",
              "  </thead>\n",
              "  <tbody>\n",
              "    <tr>\n",
              "      <th>2021-07-08</th>\n",
              "      <td>0.500000</td>\n",
              "      <td>0.333333</td>\n",
              "      <td>0.333333</td>\n",
              "      <td>1.166667</td>\n",
              "      <td>NaN</td>\n",
              "    </tr>\n",
              "    <tr>\n",
              "      <th>2021-07-12</th>\n",
              "      <td>0.517477</td>\n",
              "      <td>0.343448</td>\n",
              "      <td>0.333422</td>\n",
              "      <td>1.194347</td>\n",
              "      <td>0.023726</td>\n",
              "    </tr>\n",
              "    <tr>\n",
              "      <th>2021-07-13</th>\n",
              "      <td>0.506820</td>\n",
              "      <td>0.339770</td>\n",
              "      <td>0.336544</td>\n",
              "      <td>1.183134</td>\n",
              "      <td>-0.009389</td>\n",
              "    </tr>\n",
              "    <tr>\n",
              "      <th>2021-07-14</th>\n",
              "      <td>0.517477</td>\n",
              "      <td>0.343218</td>\n",
              "      <td>0.339397</td>\n",
              "      <td>1.200092</td>\n",
              "      <td>0.014333</td>\n",
              "    </tr>\n",
              "    <tr>\n",
              "      <th>2021-07-15</th>\n",
              "      <td>0.512362</td>\n",
              "      <td>0.341609</td>\n",
              "      <td>0.338327</td>\n",
              "      <td>1.192298</td>\n",
              "      <td>-0.006495</td>\n",
              "    </tr>\n",
              "    <tr>\n",
              "      <th>...</th>\n",
              "      <td>...</td>\n",
              "      <td>...</td>\n",
              "      <td>...</td>\n",
              "      <td>...</td>\n",
              "      <td>...</td>\n",
              "    </tr>\n",
              "    <tr>\n",
              "      <th>2022-07-04</th>\n",
              "      <td>0.668233</td>\n",
              "      <td>0.497795</td>\n",
              "      <td>0.374795</td>\n",
              "      <td>1.540824</td>\n",
              "      <td>-0.013506</td>\n",
              "    </tr>\n",
              "    <tr>\n",
              "      <th>2022-07-05</th>\n",
              "      <td>0.654029</td>\n",
              "      <td>0.521861</td>\n",
              "      <td>0.373050</td>\n",
              "      <td>1.548940</td>\n",
              "      <td>0.005267</td>\n",
              "    </tr>\n",
              "    <tr>\n",
              "      <th>2022-07-06</th>\n",
              "      <td>0.652092</td>\n",
              "      <td>0.507356</td>\n",
              "      <td>0.375668</td>\n",
              "      <td>1.535116</td>\n",
              "      <td>-0.008925</td>\n",
              "    </tr>\n",
              "    <tr>\n",
              "      <th>2022-07-07</th>\n",
              "      <td>0.663713</td>\n",
              "      <td>0.511971</td>\n",
              "      <td>0.379935</td>\n",
              "      <td>1.555619</td>\n",
              "      <td>0.013356</td>\n",
              "    </tr>\n",
              "    <tr>\n",
              "      <th>2022-07-08</th>\n",
              "      <td>0.663713</td>\n",
              "      <td>0.511312</td>\n",
              "      <td>0.378965</td>\n",
              "      <td>1.553990</td>\n",
              "      <td>-0.001047</td>\n",
              "    </tr>\n",
              "  </tbody>\n",
              "</table>\n",
              "<p>250 rows × 5 columns</p>\n",
              "</div>"
            ],
            "text/plain": [
              "            CMIG4.SA  CMIG3.SA  TAEE11.SA     saldo   retorno\n",
              "Date                                                         \n",
              "2021-07-08  0.500000  0.333333   0.333333  1.166667       NaN\n",
              "2021-07-12  0.517477  0.343448   0.333422  1.194347  0.023726\n",
              "2021-07-13  0.506820  0.339770   0.336544  1.183134 -0.009389\n",
              "2021-07-14  0.517477  0.343218   0.339397  1.200092  0.014333\n",
              "2021-07-15  0.512362  0.341609   0.338327  1.192298 -0.006495\n",
              "...              ...       ...        ...       ...       ...\n",
              "2022-07-04  0.668233  0.497795   0.374795  1.540824 -0.013506\n",
              "2022-07-05  0.654029  0.521861   0.373050  1.548940  0.005267\n",
              "2022-07-06  0.652092  0.507356   0.375668  1.535116 -0.008925\n",
              "2022-07-07  0.663713  0.511971   0.379935  1.555619  0.013356\n",
              "2022-07-08  0.663713  0.511312   0.378965  1.553990 -0.001047\n",
              "\n",
              "[250 rows x 5 columns]"
            ]
          },
          "execution_count": 11,
          "metadata": {},
          "output_type": "execute_result"
        }
      ],
      "source": [
        "carteira = random.sample(list(dados_yahoo.columns) , k=3)\n",
        "carteira = [1/2,1/3,1/3] * retorno_acumulado.loc[: , carteira]\n",
        "carteira['saldo'] = carteira.sum(axis=1)\n",
        "carteira[\"retorno\"] = carteira['saldo'].pct_change()\n",
        "carteira"
      ]
    },
    {
      "cell_type": "code",
      "execution_count": 9,
      "metadata": {
        "colab": {
          "base_uri": "https://localhost:8080/",
          "height": 499
        },
        "id": "yPnQzvUdlaUK",
        "outputId": "fd2ce8d9-b9a4-4659-960a-dc2f6d837449"
      },
      "outputs": [
        {
          "data": {
            "text/plain": [
              "<AxesSubplot:xlabel='Date'>"
            ]
          },
          "execution_count": 9,
          "metadata": {},
          "output_type": "execute_result"
        },
        {
          "data": {
            "image/png": "[encoded data removed]",
            "text/plain": [
              "<Figure size 1296x576 with 1 Axes>"
            ]
          },
          "metadata": {},
          "output_type": "display_data"
        }
      ],
      "source": [
        "for i in range(500):\n",
        "  carteira = random.sample(list(dados_yahoo.columns) , k=3)\n",
        "  carteira = (1/3) * retorno_acumulado.loc[: , carteira]\n",
        "  carteira['saldo'] = carteira.sum(axis=1)\n",
        "  carteira['saldo'].plot(figsize=(18,8))\n",
        "\n",
        "(ibov*1).plot(linewidth=4, color='black')\n",
        "  "
      ]
    },
    {
      "cell_type": "code",
      "execution_count": 3,
      "metadata": {
        "id": "9p1DYCFqmYxS"
      },
      "outputs": [],
      "source": [
        "from stockanalysis.pydea.dea import DEAProblem, DEAResults"
      ]
    },
    {
      "cell_type": "code",
      "execution_count": 6,
      "metadata": {},
      "outputs": [],
      "source": [
        "import pandas as pd"
      ]
    },
    {
      "cell_type": "code",
      "execution_count": 9,
      "metadata": {},
      "outputs": [],
      "source": [
        "df = pd.read_excel('exemplodea.xlsx')\n",
        "df.index = df['DMU']\n",
        "df = df.drop(columns='DMU')\n",
        "df.columns = ['Ret1','Ret2','Ret3','Vol','Beta']"
      ]
    },
    {
      "cell_type": "code",
      "execution_count": 10,
      "metadata": {},
      "outputs": [],
      "source": [
        "sss = DEAProblem(df[['Ret1','Ret2','Ret3']],df[['Vol','Beta']])"
      ]
    },
    {
      "cell_type": "code",
      "execution_count": 13,
      "metadata": {},
      "outputs": [],
      "source": [
        "sol = sss.solve()"
      ]
    },
    {
      "cell_type": "code",
      "execution_count": 29,
      "metadata": {},
      "outputs": [
        {
          "name": "stdout",
          "output_type": "stream",
          "text": [
            "                            OLS Regression Results                            \n",
            "==============================================================================\n",
            "Dep. Variable:             Efficiency   R-squared:                       0.991\n",
            "Model:                            OLS   Adj. R-squared:                  0.946\n",
            "Method:                 Least Squares   F-statistic:                     22.13\n",
            "Date:                Tue, 12 Jul 2022   Prob (F-statistic):              0.160\n",
            "Time:                        20:28:03   Log-Likelihood:                 16.646\n",
            "No. Observations:                   7   AIC:                            -21.29\n",
            "Df Residuals:                       1   BIC:                            -21.62\n",
            "Df Model:                           5                                         \n",
            "Covariance Type:            nonrobust                                         \n",
            "==============================================================================\n",
            "                 coef    std err          t      P>|t|      [0.025      0.975]\n",
            "------------------------------------------------------------------------------\n",
            "Intercept      0.2043      0.955      0.214      0.866     -11.933      12.341\n",
            "Ret1          -0.7381      0.236     -3.121      0.197      -3.743       2.266\n",
            "Ret2           0.2567      0.773      0.332      0.796      -9.559      10.072\n",
            "Ret3           0.2367      0.630      0.376      0.771      -7.769       8.242\n",
            "Vol           15.2937      2.175      7.030      0.090     -12.348      42.935\n",
            "Beta           1.5450      0.178      8.681      0.073      -0.716       3.807\n",
            "==============================================================================\n",
            "Omnibus:                          nan   Durbin-Watson:                   3.581\n",
            "Prob(Omnibus):                    nan   Jarque-Bera (JB):                0.346\n",
            "Skew:                          -0.074   Prob(JB):                        0.841\n",
            "Kurtosis:                       1.920   Cond. No.                         235.\n",
            "==============================================================================\n",
            "\n",
            "Notes:\n",
            "[1] Standard Errors assume that the covariance matrix of the errors is correctly specified.\n"
          ]
        },
        {
          "name": "stderr",
          "output_type": "stream",
          "text": [
            "c:\\Users\\engme\\Anaconda3\\envs\\venv\\lib\\site-packages\\statsmodels\\stats\\stattools.py:74: ValueWarning: omni_normtest is not valid with less than 8 observations; 7 samples were given.\n",
            "  warn(\"omni_normtest is not valid with less than 8 observations; %i \"\n",
            "c:\\Users\\engme\\Anaconda3\\envs\\venv\\lib\\site-packages\\statsmodels\\stats\\stattools.py:74: ValueWarning: omni_normtest is not valid with less than 8 observations; 7 samples were given.\n",
            "  warn(\"omni_normtest is not valid with less than 8 observations; %i \"\n"
          ]
        }
      ],
      "source": [
        "sss_s  = DEAResults.env_corr(sol,df)\n",
        "with open('summary.csv', 'w') as fh:\n",
        "    fh.write(sss_s.summary().as_csv())"
      ]
    }
  ],
  "metadata": {
    "colab": {
      "collapsed_sections": [],
      "name": "06 - Simulando Carteiras de Ações Aleatórias - Python para Investimentos com Google Colab.ipynb",
      "provenance": []
    },
    "kernelspec": {
      "display_name": "Python 3.8.13 ('venv')",
      "language": "python",
      "name": "python3"
    },
    "language_info": {
      "codemirror_mode": {
        "name": "ipython",
        "version": 3
      },
      "file_extension": ".py",
      "mimetype": "text/x-python",
      "name": "python",
      "nbconvert_exporter": "python",
      "pygments_lexer": "ipython3",
      "version": "3.8.13"
    },
    "vscode": {
      "interpreter": {
        "hash": "5062cd389d4bf2666b4354d375c89b560f31543bc0a03ded26ec3dc56dd5f264"
      }
    }
  },
  "nbformat": 4,
  "nbformat_minor": 0
}
